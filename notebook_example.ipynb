{
 "cells": [
  {
   "cell_type": "markdown",
   "metadata": {},
   "source": [
    "# Text-to-SQL Chat Interface for Jupyter Notebooks\n",
    "\n",
    "This notebook provides an interactive chat interface for the Text-to-SQL model that works in all Jupyter environments:\n",
    "- Kaggle Notebooks\n",
    "- Google Colab\n",
    "- JupyterLab\n",
    "- Jupyter Notebook"
   ]
  },
  {
   "cell_type": "markdown",
   "metadata": {},
   "source": [
    "## Setup\n",
    "\n",
    "First, install the required packages and import the chat interface:"
   ]
  },
  {
   "cell_type": "code",
   "execution_count": null,
   "metadata": {},
   "outputs": [],
   "source": [
    "# Install required packages (if not already installed)\n",
    "!pip install transformers peft torch accelerate bitsandbytes ipywidgets\n",
    "\n",
    "# Platform-specific widget setup (uncomment if needed)\n",
    "# For Google Colab:\n",
    "# from google.colab import output\n",
    "# output.enable_custom_widget_manager()\n",
    "\n",
    "# For JupyterLab (run in terminal):\n",
    "# !jupyter labextension install @jupyter-widgets/jupyterlab-manager\n",
    "\n",
    "# Import the chat interface\n",
    "from notebook_chat import start_chat"
   ]
  },
  {
   "cell_type": "markdown",
   "metadata": {},
   "source": [
    "## Authentication\n",
    "\n",
    "Set your Hugging Face token for model access:"
   ]
  },
  {
   "cell_type": "code",
   "execution_count": null,
   "metadata": {},
   "outputs": [],
   "source": [
    "# Set your Hugging Face token here\n",
    "HF_TOKEN = \"your_huggingface_token_here\"  # Replace with your actual token\n",
    "\n",
    "# Platform-specific secret management:\n",
    "\n",
    "# For Kaggle (recommended):\n",
    "# from kaggle_secrets import UserSecretsClient\n",
    "# user_secrets = UserSecretsClient()\n",
    "# HF_TOKEN = user_secrets.get_secret(\"HUGGINGFACE_TOKEN\")\n",
    "\n",
    "# For Google Colab:\n",
    "# from google.colab import userdata\n",
    "# HF_TOKEN = userdata.get('HUGGINGFACE_TOKEN')"
   ]
  },
  {
   "cell_type": "markdown",
   "metadata": {},
   "source": [
    "## Start the Chat Interface\n",
    "\n",
    "Launch the interactive chat interface:"
   ]
  },
  {
   "cell_type": "code",
   "execution_count": null,
   "metadata": {},
   "outputs": [],
   "source": [
    "# Start the chat interface\n",
    "chat = start_chat(\n",
    "    adapter_path=\"./sql-mistral-adapter-final\",  # Path to your fine-tuned adapter\n",
    "    base_model_name=\"mistralai/Mistral-7B-v0.3\",\n",
    "    hf_token=HF_TOKEN\n",
    ")"
   ]
  },
  {
   "cell_type": "markdown",
   "metadata": {},
   "source": [
    "## How to Use\n",
    "\n",
    "1. **Load Example Schema**: Click \"Load Example\" to load a pre-built database schema\n",
    "2. **Or Enter Custom Schema**: Type your own CREATE TABLE statements in the Schema box\n",
    "3. **Ask Questions**: Enter your question in natural language in the Question box\n",
    "4. **Generate SQL**: Click \"Generate SQL\" to create the SQL query\n",
    "5. **View Results**: The generated SQL, validation status, and query results will appear below\n",
    "\n",
    "### Example Questions:\n",
    "- \"What is the average price of all products?\"\n",
    "- \"Show me all customers who registered in 2023\"\n",
    "- \"Find the total sales amount for each customer\"\n",
    "- \"Which products are out of stock?\""
   ]
  },
  {
   "cell_type": "markdown",
   "metadata": {},
   "source": [
    "## Alternative: Simple Function-based Interface\n",
    "\n",
    "If you prefer a simpler approach without widgets:"
   ]
  },
  {
   "cell_type": "code",
   "execution_count": null,
   "metadata": {},
   "outputs": [],
   "source": [
    "# Simple function to generate SQL\n",
    "def generate_sql_simple(schema, question):\n",
    "    \"\"\"\n",
    "    Simple function to generate SQL without widgets.\n",
    "    \n",
    "    Args:\n",
    "        schema: Database schema (CREATE TABLE statements)\n",
    "        question: Natural language question\n",
    "    \"\"\"\n",
    "    if hasattr(chat, 'generate_sql_query'):\n",
    "        sql = chat.generate_sql_query(schema, question)\n",
    "        print(f\"Generated SQL: {sql}\")\n",
    "        \n",
    "        # Validate and execute\n",
    "        is_valid, msg = chat.validate_sql_syntax(sql, schema)\n",
    "        print(f\"Validation: {msg}\")\n",
    "        \n",
    "        try:\n",
    "            results = chat.execute_sql_query(sql, schema)\n",
    "            print(f\"Results:\\n{results}\")\n",
    "        except Exception as e:\n",
    "            print(f\"Execution error: {e}\")\n",
    "    else:\n",
    "        print(\"Please run the chat interface first\")\n",
    "\n",
    "# Example usage:\n",
    "# schema = \"CREATE TABLE products (id INT, name VARCHAR(100), price DECIMAL(10,2));\"\n",
    "# question = \"What is the average price of all products?\"\n",
    "# generate_sql_simple(schema, question)"
   ]
  }
 ],
 "metadata": {
  "kernelspec": {
   "display_name": "Python 3",
   "language": "python",
   "name": "python3"
  },
  "language_info": {
   "codemirror_mode": {
    "name": "ipython",
    "version": 3
   },
   "file_extension": ".py",
   "mimetype": "text/x-python",
   "name": "python",
   "nbconvert_exporter": "python",
   "pyggle_exporter": "script",
   "version": "3.8.0"
  }
 },
 "nbformat": 4,
 "nbformat_minor": 4
}
